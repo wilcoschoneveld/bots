{
 "cells": [
  {
   "cell_type": "code",
   "execution_count": 1,
   "metadata": {},
   "outputs": [],
   "source": [
    "import time\n",
    "from tictactoe.game import TicTacToe\n",
    "from tictactoe.human import Human\n",
    "from tictactoe.agent import Agent\n",
    "\n",
    "player1 = Agent('AI')\n",
    "player2 = Human('Human')"
   ]
  },
  {
   "cell_type": "code",
   "execution_count": 25,
   "metadata": {
    "collapsed": true
   },
   "outputs": [],
   "source": [
    "board = TicTacToe(player1, player2)"
   ]
  },
  {
   "cell_type": "code",
   "execution_count": 31,
   "metadata": {},
   "outputs": [
    {
     "data": {
      "text/html": [
       "\n",
       "            <table>\n",
       "                <tr>\n",
       "                    <td>O</td>\n",
       "                    <td>-</td>\n",
       "                    <td>O</td>\n",
       "                </tr>\n",
       "                    <td>-</td>\n",
       "                    <td>X</td>\n",
       "                    <td>X</td>\n",
       "                <tr>\n",
       "                </tr>\n",
       "                <tr>\n",
       "                    <td>-</td>\n",
       "                    <td>-</td>\n",
       "                    <td>-</td>\n",
       "                </tr>\n",
       "            </table>\n",
       "        "
      ],
      "text/plain": [
       "<tictactoe.game.TicTacToe at 0x7ff1553282e8>"
      ]
     },
     "metadata": {},
     "output_type": "display_data"
    },
    {
     "name": "stdout",
     "output_type": "stream",
     "text": [
      "AI chooses move 4\n",
      "AI WINS!!!!!!!!! *CONFETTI*\n"
     ]
    },
    {
     "data": {
      "text/html": [
       "\n",
       "            <table>\n",
       "                <tr>\n",
       "                    <td>O</td>\n",
       "                    <td>-</td>\n",
       "                    <td>O</td>\n",
       "                </tr>\n",
       "                    <td>X</td>\n",
       "                    <td>X</td>\n",
       "                    <td>X</td>\n",
       "                <tr>\n",
       "                </tr>\n",
       "                <tr>\n",
       "                    <td>-</td>\n",
       "                    <td>-</td>\n",
       "                    <td>-</td>\n",
       "                </tr>\n",
       "            </table>\n",
       "        "
      ],
      "text/plain": [
       "<tictactoe.game.TicTacToe at 0x7ff1553282e8>"
      ]
     },
     "metadata": {},
     "output_type": "display_data"
    }
   ],
   "source": [
    "display(board)\n",
    "time.sleep(0.1)\n",
    "board.next_turn()\n",
    "display(board)"
   ]
  },
  {
   "cell_type": "code",
   "execution_count": null,
   "metadata": {
    "collapsed": true
   },
   "outputs": [],
   "source": [
    "## board.state[0:3] == ['X', 'O', 'X']"
   ]
  },
  {
   "cell_type": "code",
   "execution_count": 58,
   "metadata": {},
   "outputs": [
    {
     "data": {
      "text/html": [
       "<table><tr><td>State</td><td>Value</td></tr><tr><td>XXX******</td><td>1</td></tr><tr><td>***XXX***</td><td>1</td></tr><tr><td>******XXX</td><td>1</td></tr><tr><td>X**X**X**</td><td>1</td></tr><tr><td>*X**X**X*</td><td>1</td></tr><tr><td>**X**X**X</td><td>1</td></tr><tr><td>X***X***X</td><td>1</td></tr><tr><td>**X*X*X**</td><td>1</td></tr></table>"
      ],
      "text/plain": [
       "<tictactoe.agent.Agent at 0x7f37494f3198>"
      ]
     },
     "execution_count": 58,
     "metadata": {},
     "output_type": "execute_result"
    }
   ],
   "source": [
    "player1"
   ]
  },
  {
   "cell_type": "code",
   "execution_count": 5,
   "metadata": {},
   "outputs": [
    {
     "data": {
      "text/plain": [
       "1"
      ]
     },
     "execution_count": 5,
     "metadata": {},
     "output_type": "execute_result"
    }
   ],
   "source": [
    "player1.get_value('X--X--XOO')"
   ]
  },
  {
   "cell_type": "code",
   "execution_count": 84,
   "metadata": {
    "collapsed": true
   },
   "outputs": [],
   "source": [
    "playerX = Agent('AI1')\n",
    "playerY = Agent('AI2')\n",
    "\n",
    "board = TicTacToe(playerX, playerY)"
   ]
  },
  {
   "cell_type": "code",
   "execution_count": 85,
   "metadata": {},
   "outputs": [
    {
     "name": "stdout",
     "output_type": "stream",
     "text": [
      "AI1 chooses move 3\n",
      "AI2 chooses move 9\n",
      "AI1 chooses move 6\n",
      "AI2 chooses move 4\n",
      "AI1 chooses move 7\n",
      "AI2 chooses move 1\n",
      "AI1 chooses move 5\n",
      "AI1 WINS!!!!!!!!! *CONFETTI*\n"
     ]
    },
    {
     "data": {
      "text/html": [
       "\n",
       "            <table>\n",
       "                <tr>\n",
       "                    <td>O</td>\n",
       "                    <td>-</td>\n",
       "                    <td>X</td>\n",
       "                </tr>\n",
       "                    <td>O</td>\n",
       "                    <td>X</td>\n",
       "                    <td>X</td>\n",
       "                <tr>\n",
       "                </tr>\n",
       "                <tr>\n",
       "                    <td>X</td>\n",
       "                    <td>-</td>\n",
       "                    <td>O</td>\n",
       "                </tr>\n",
       "            </table>\n",
       "        "
      ],
      "text/plain": [
       "<tictactoe.game.TicTacToe at 0x7ff1541bba90>"
      ]
     },
     "metadata": {},
     "output_type": "display_data"
    }
   ],
   "source": [
    "while not board.finished:\n",
    "    board.next_turn()\n",
    "    \n",
    "display(board)"
   ]
  },
  {
   "cell_type": "code",
   "execution_count": 110,
   "metadata": {},
   "outputs": [
    {
     "data": {
      "text/plain": [
       "odict_values([1, 1, 1, 1, 1, 1, 1, 1])"
      ]
     },
     "execution_count": 110,
     "metadata": {},
     "output_type": "execute_result"
    }
   ],
   "source": [
    "playerX.states.values()"
   ]
  },
  {
   "cell_type": "code",
   "execution_count": null,
   "metadata": {
    "collapsed": true
   },
   "outputs": [],
   "source": []
  }
 ],
 "metadata": {
  "kernelspec": {
   "display_name": "Python 3",
   "language": "python",
   "name": "python3"
  },
  "language_info": {
   "codemirror_mode": {
    "name": "ipython",
    "version": 3
   },
   "file_extension": ".py",
   "mimetype": "text/x-python",
   "name": "python",
   "nbconvert_exporter": "python",
   "pygments_lexer": "ipython3",
   "version": "3.5.2"
  }
 },
 "nbformat": 4,
 "nbformat_minor": 2
}
