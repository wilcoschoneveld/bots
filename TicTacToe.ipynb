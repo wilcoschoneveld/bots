{
 "cells": [
  {
   "cell_type": "code",
   "execution_count": 1,
   "metadata": {},
   "outputs": [],
   "source": [
    "import time\n",
    "from tictactoe.game import TicTacToe\n",
    "from tictactoe.human import Human\n",
    "from tictactoe.agent import Agent"
   ]
  },
  {
   "cell_type": "markdown",
   "metadata": {},
   "source": [
    "# AI vs Human"
   ]
  },
  {
   "cell_type": "code",
   "execution_count": 7,
   "metadata": {
    "collapsed": true
   },
   "outputs": [],
   "source": [
    "player1 = Agent('AI')\n",
    "player2 = Human('Human')"
   ]
  },
  {
   "cell_type": "code",
   "execution_count": 10,
   "metadata": {
    "collapsed": true
   },
   "outputs": [],
   "source": [
    "board = TicTacToe(player1, player2)"
   ]
  },
  {
   "cell_type": "code",
   "execution_count": 14,
   "metadata": {},
   "outputs": [
    {
     "data": {
      "text/html": [
       "\n",
       "            <table>\n",
       "                <tr>\n",
       "                    <td>O</td>\n",
       "                    <td>-</td>\n",
       "                    <td>X</td>\n",
       "                </tr>\n",
       "                    <td>-</td>\n",
       "                    <td>X</td>\n",
       "                    <td>-</td>\n",
       "                <tr>\n",
       "                </tr>\n",
       "                <tr>\n",
       "                    <td>-</td>\n",
       "                    <td>-</td>\n",
       "                    <td>-</td>\n",
       "                </tr>\n",
       "            </table>\n",
       "        "
      ],
      "text/plain": [
       "<tictactoe.game.TicTacToe at 0x7eff20f9ebe0>"
      ]
     },
     "metadata": {},
     "output_type": "display_data"
    },
    {
     "name": "stdout",
     "output_type": "stream",
     "text": [
      "Human, enter a move: 2\n"
     ]
    },
    {
     "data": {
      "text/html": [
       "\n",
       "            <table>\n",
       "                <tr>\n",
       "                    <td>O</td>\n",
       "                    <td>O</td>\n",
       "                    <td>X</td>\n",
       "                </tr>\n",
       "                    <td>-</td>\n",
       "                    <td>X</td>\n",
       "                    <td>-</td>\n",
       "                <tr>\n",
       "                </tr>\n",
       "                <tr>\n",
       "                    <td>-</td>\n",
       "                    <td>-</td>\n",
       "                    <td>-</td>\n",
       "                </tr>\n",
       "            </table>\n",
       "        "
      ],
      "text/plain": [
       "<tictactoe.game.TicTacToe at 0x7eff20f9ebe0>"
      ]
     },
     "metadata": {},
     "output_type": "display_data"
    }
   ],
   "source": [
    "display(board)\n",
    "time.sleep(0.1)\n",
    "board.next_turn()\n",
    "display(board)"
   ]
  },
  {
   "cell_type": "markdown",
   "metadata": {},
   "source": [
    "# AI vs AI"
   ]
  },
  {
   "cell_type": "code",
   "execution_count": 2,
   "metadata": {
    "collapsed": true
   },
   "outputs": [],
   "source": [
    "playerX = Agent('AI1')\n",
    "playerY = Agent('AI2')"
   ]
  },
  {
   "cell_type": "code",
   "execution_count": 3,
   "metadata": {
    "scrolled": true
   },
   "outputs": [
    {
     "name": "stdout",
     "output_type": "stream",
     "text": [
      "AI1 chooses move 4\n",
      "AI2 chooses move 3\n",
      "AI1 chooses move 9\n",
      "AI2 chooses move 6\n",
      "AI1 chooses move 1\n",
      "AI2 chooses move 2\n",
      "AI1 chooses move 7\n",
      "AI1 WINS!!!!!!!!! *CONFETTI*\n"
     ]
    },
    {
     "data": {
      "text/html": [
       "\n",
       "            <table>\n",
       "                <tr>\n",
       "                    <td>X</td>\n",
       "                    <td>O</td>\n",
       "                    <td>O</td>\n",
       "                </tr>\n",
       "                    <td>X</td>\n",
       "                    <td>-</td>\n",
       "                    <td>O</td>\n",
       "                <tr>\n",
       "                </tr>\n",
       "                <tr>\n",
       "                    <td>X</td>\n",
       "                    <td>-</td>\n",
       "                    <td>X</td>\n",
       "                </tr>\n",
       "            </table>\n",
       "        "
      ],
      "text/plain": [
       "<tictactoe.game.TicTacToe at 0x7f3f1dbd3ef0>"
      ]
     },
     "metadata": {},
     "output_type": "display_data"
    },
    {
     "name": "stdout",
     "output_type": "stream",
     "text": [
      "AI1\n"
     ]
    }
   ],
   "source": [
    "board = TicTacToe(playerX, playerY)\n",
    "\n",
    "while not board.finished:\n",
    "    board.next_turn()\n",
    "    \n",
    "display(board)\n",
    "print(board.winner.name)"
   ]
  },
  {
   "cell_type": "code",
   "execution_count": 14,
   "metadata": {
    "scrolled": true
   },
   "outputs": [
    {
     "name": "stdout",
     "output_type": "stream",
     "text": [
      "FINISHED!\n",
      "AI1 6746\n",
      "AI2 2541\n"
     ]
    }
   ],
   "source": [
    "wins = {\n",
    "    playerX: 0,\n",
    "    playerY: 0\n",
    "}\n",
    "\n",
    "# playerX.explore = 0\n",
    "# playerY.explore = 1\n",
    "\n",
    "board = TicTacToe(playerX, playerY)\n",
    "\n",
    "for i in range(10000):\n",
    "    board.print = False\n",
    "    \n",
    "    while not board.finished:\n",
    "        board.next_turn()\n",
    "        \n",
    "    if board.winner:\n",
    "        wins[board.winner] += 1\n",
    "        \n",
    "    board.reset()\n",
    "    board.turn_p1 = i % 2  # take turns in starting\n",
    "    \n",
    "print(\"FINISHED!\")\n",
    "print(playerX.name, wins[playerX])\n",
    "print(playerY.name, wins[playerY])"
   ]
  },
  {
   "cell_type": "code",
   "execution_count": 8,
   "metadata": {},
   "outputs": [
    {
     "data": {
      "text/plain": [
       "1"
      ]
     },
     "execution_count": 8,
     "metadata": {},
     "output_type": "execute_result"
    }
   ],
   "source": [
    "501 % 2"
   ]
  },
  {
   "cell_type": "code",
   "execution_count": null,
   "metadata": {
    "collapsed": true
   },
   "outputs": [],
   "source": []
  }
 ],
 "metadata": {
  "kernelspec": {
   "display_name": "Python 3",
   "language": "python",
   "name": "python3"
  },
  "language_info": {
   "codemirror_mode": {
    "name": "ipython",
    "version": 3
   },
   "file_extension": ".py",
   "mimetype": "text/x-python",
   "name": "python",
   "nbconvert_exporter": "python",
   "pygments_lexer": "ipython3",
   "version": "3.5.2"
  }
 },
 "nbformat": 4,
 "nbformat_minor": 2
}
