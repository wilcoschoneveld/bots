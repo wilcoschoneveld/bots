{
 "cells": [
  {
   "cell_type": "code",
   "execution_count": 1,
   "metadata": {
    "collapsed": true
   },
   "outputs": [],
   "source": [
    "import time\n",
    "from tictactoe.game import TicTacToe\n",
    "from tictactoe.human import Human\n",
    "from tictactoe.agent import Agent"
   ]
  },
  {
   "cell_type": "markdown",
   "metadata": {},
   "source": [
    "# AI vs Human"
   ]
  },
  {
   "cell_type": "code",
   "execution_count": 2,
   "metadata": {
    "collapsed": true
   },
   "outputs": [],
   "source": [
    "player1 = Agent('AI')\n",
    "player2 = Human('Human')"
   ]
  },
  {
   "cell_type": "code",
   "execution_count": null,
   "metadata": {
    "collapsed": true
   },
   "outputs": [],
   "source": [
    "board = TicTacToe(player1, player2)"
   ]
  },
  {
   "cell_type": "code",
   "execution_count": null,
   "metadata": {},
   "outputs": [],
   "source": [
    "display(board)\n",
    "time.sleep(0.1)\n",
    "board.next_turn()\n",
    "display(board)"
   ]
  },
  {
   "cell_type": "markdown",
   "metadata": {},
   "source": [
    "# AI vs AI"
   ]
  },
  {
   "cell_type": "code",
   "execution_count": 117,
   "metadata": {
    "collapsed": true
   },
   "outputs": [],
   "source": [
    "playerX = Agent('AI1')\n",
    "playerY = Agent('AI2')"
   ]
  },
  {
   "cell_type": "code",
   "execution_count": 227,
   "metadata": {
    "scrolled": false
   },
   "outputs": [
    {
     "name": "stdout",
     "output_type": "stream",
     "text": [
      "AI1 chooses move 9\n",
      "AI2 chooses move 5\n",
      "AI1 chooses move 1\n",
      "AI2 chooses move 4\n",
      "AI1 chooses move 6\n",
      "AI2 chooses move 3\n",
      "AI1 chooses move 7\n",
      "AI2 chooses move 8\n",
      "AI1 chooses move 2\n",
      "It's a draw!\n"
     ]
    },
    {
     "data": {
      "text/html": [
       "\n",
       "            <table>\n",
       "                <tr>\n",
       "                    <td>X</td>\n",
       "                    <td>X</td>\n",
       "                    <td>O</td>\n",
       "                </tr>\n",
       "                    <td>O</td>\n",
       "                    <td>O</td>\n",
       "                    <td>X</td>\n",
       "                <tr>\n",
       "                </tr>\n",
       "                <tr>\n",
       "                    <td>X</td>\n",
       "                    <td>O</td>\n",
       "                    <td>X</td>\n",
       "                </tr>\n",
       "            </table>\n",
       "        "
      ],
      "text/plain": [
       "<tictactoe.game.TicTacToe at 0x7f90608a75f8>"
      ]
     },
     "metadata": {},
     "output_type": "display_data"
    }
   ],
   "source": [
    "board = TicTacToe(playerX, playerY)\n",
    "\n",
    "while not board.finished:\n",
    "    board.next_turn()\n",
    "    \n",
    "display(board)"
   ]
  },
  {
   "cell_type": "code",
   "execution_count": 118,
   "metadata": {
    "scrolled": true
   },
   "outputs": [
    {
     "name": "stdout",
     "output_type": "stream",
     "text": [
      "0\n",
      "1000\n",
      "2000\n",
      "3000\n",
      "4000\n",
      "5000\n",
      "6000\n",
      "7000\n",
      "8000\n",
      "9000\n",
      "10000\n",
      "11000\n",
      "12000\n",
      "13000\n",
      "14000\n",
      "15000\n",
      "16000\n",
      "17000\n",
      "18000\n",
      "19000\n",
      "FINISHED!\n",
      "AI1 6198\n",
      "AI2 2952\n"
     ]
    }
   ],
   "source": [
    "history = {\n",
    "    playerX: [0],\n",
    "    playerY: [0],\n",
    "    None: [0]\n",
    "}\n",
    "\n",
    "playerX.learning_rate = 0.1\n",
    "playerX.explore = 0.1\n",
    "playerY.learning_rate = 0.01\n",
    "playerY.explore = 0.3\n",
    "\n",
    "board = TicTacToe(playerX, playerY)\n",
    "\n",
    "for i in range(20000):\n",
    "    if i % 1000 == 0:\n",
    "        print(i)\n",
    "    \n",
    "    board.print = False\n",
    "    \n",
    "    while not board.finished:\n",
    "        board.next_turn()\n",
    "        \n",
    "    for p in history:\n",
    "        history[p].append(history[p][-1])\n",
    "    \n",
    "    history[board.winner][-1] += 1\n",
    "        \n",
    "    board.reset()\n",
    "    board.turn_p1 = i % 2  # take turns in starting\n",
    "    \n",
    "print(\"FINISHED!\")\n",
    "print(playerX.name, history[playerX][-1])\n",
    "print(playerY.name, history[playerY][-1])"
   ]
  },
  {
   "cell_type": "code",
   "execution_count": 119,
   "metadata": {},
   "outputs": [
    {
     "data": {
      "image/png": "[encoded data removed]",
      "text/plain": [
       "<matplotlib.figure.Figure at 0x7f9060993fd0>"
      ]
     },
     "metadata": {},
     "output_type": "display_data"
    }
   ],
   "source": [
    "import matplotlib.pyplot as plt\n",
    "\n",
    "plt.plot(history[playerX], label=playerX.name)\n",
    "plt.plot(history[playerY], label=playerY.name)\n",
    "plt.plot(history[None], label='Draw')\n",
    "plt.legend()\n",
    "plt.show()"
   ]
  },
  {
   "cell_type": "code",
   "execution_count": 243,
   "metadata": {
    "collapsed": true
   },
   "outputs": [],
   "source": [
    "playerX.explore = 0\n",
    "board = TicTacToe(playerX, player2)\n",
    "board.turn_p1 = True"
   ]
  },
  {
   "cell_type": "code",
   "execution_count": 252,
   "metadata": {},
   "outputs": [
    {
     "data": {
      "text/html": [
       "\n",
       "            <table>\n",
       "                <tr>\n",
       "                    <td>O</td>\n",
       "                    <td>X</td>\n",
       "                    <td>O</td>\n",
       "                </tr>\n",
       "                    <td>O</td>\n",
       "                    <td>X</td>\n",
       "                    <td>-</td>\n",
       "                <tr>\n",
       "                </tr>\n",
       "                <tr>\n",
       "                    <td>X</td>\n",
       "                    <td>O</td>\n",
       "                    <td>X</td>\n",
       "                </tr>\n",
       "            </table>\n",
       "        "
      ],
      "text/plain": [
       "<tictactoe.game.TicTacToe at 0x7f9060893860>"
      ]
     },
     "metadata": {},
     "output_type": "display_data"
    },
    {
     "name": "stdout",
     "output_type": "stream",
     "text": [
      "AI1 chooses move 6\n",
      "It's a draw!\n"
     ]
    },
    {
     "data": {
      "text/html": [
       "\n",
       "            <table>\n",
       "                <tr>\n",
       "                    <td>O</td>\n",
       "                    <td>X</td>\n",
       "                    <td>O</td>\n",
       "                </tr>\n",
       "                    <td>O</td>\n",
       "                    <td>X</td>\n",
       "                    <td>X</td>\n",
       "                <tr>\n",
       "                </tr>\n",
       "                <tr>\n",
       "                    <td>X</td>\n",
       "                    <td>O</td>\n",
       "                    <td>X</td>\n",
       "                </tr>\n",
       "            </table>\n",
       "        "
      ],
      "text/plain": [
       "<tictactoe.game.TicTacToe at 0x7f9060893860>"
      ]
     },
     "metadata": {},
     "output_type": "display_data"
    }
   ],
   "source": [
    "display(board)\n",
    "time.sleep(0.1)\n",
    "board.next_turn()\n",
    "display(board)"
   ]
  },
  {
   "cell_type": "markdown",
   "metadata": {
    "collapsed": true
   },
   "source": [
    "# TODO\n",
    "- Improve hashing by taking into account reversed (v1) // later: mirrored and rotated (v2)\n"
   ]
  }
 ],
 "metadata": {
  "kernelspec": {
   "display_name": "Python 3",
   "language": "python",
   "name": "python3"
  },
  "language_info": {
   "codemirror_mode": {
    "name": "ipython",
    "version": 3
   },
   "file_extension": ".py",
   "mimetype": "text/x-python",
   "name": "python",
   "nbconvert_exporter": "python",
   "pygments_lexer": "ipython3",
   "version": "3.5.2"
  }
 },
 "nbformat": 4,
 "nbformat_minor": 2
}
