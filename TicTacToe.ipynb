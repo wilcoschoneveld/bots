{
 "cells": [
  {
   "cell_type": "code",
   "execution_count": 1,
   "metadata": {
    "collapsed": true
   },
   "outputs": [],
   "source": [
    "import time\n",
    "from tictactoe.game import TicTacToe\n",
    "from tictactoe.human import Human\n",
    "from tictactoe.agent import Agent\n",
    "\n",
    "playerX = Agent('AI1')\n",
    "playerY = Agent('AI2')\n",
    "playerZ = Human('Human')"
   ]
  },
  {
   "cell_type": "markdown",
   "metadata": {},
   "source": [
    "# AI vs AI"
   ]
  },
  {
   "cell_type": "code",
   "execution_count": 2,
   "metadata": {
    "scrolled": false
   },
   "outputs": [
    {
     "name": "stdout",
     "output_type": "stream",
     "text": [
      "AI1 chooses move 2\n",
      "AI2 chooses move 1\n",
      "AI1 chooses move 6\n",
      "AI2 chooses move 5\n",
      "AI1 chooses move 8\n",
      "AI2 chooses move 7\n",
      "AI1 chooses move 4\n",
      "AI2 chooses move 3\n",
      "AI2 WINS!!!!!!!!! *CONFETTI*\n"
     ]
    },
    {
     "data": {
      "text/html": [
       "\n",
       "            <table>\n",
       "                <tr>\n",
       "                    <td>O</td>\n",
       "                    <td>X</td>\n",
       "                    <td>O</td>\n",
       "                </tr>\n",
       "                    <td>X</td>\n",
       "                    <td>O</td>\n",
       "                    <td>X</td>\n",
       "                <tr>\n",
       "                </tr>\n",
       "                <tr>\n",
       "                    <td>O</td>\n",
       "                    <td>X</td>\n",
       "                    <td>-</td>\n",
       "                </tr>\n",
       "            </table>\n",
       "        "
      ],
      "text/plain": [
       "<tictactoe.game.TicTacToe at 0x7f3edc51e5f8>"
      ]
     },
     "metadata": {},
     "output_type": "display_data"
    }
   ],
   "source": [
    "# Single game\n",
    "\n",
    "board = TicTacToe(playerX, playerY)\n",
    "\n",
    "while not board.finished:\n",
    "    board.next_turn()\n",
    "    \n",
    "display(board)"
   ]
  },
  {
   "cell_type": "code",
   "execution_count": 3,
   "metadata": {
    "scrolled": false
   },
   "outputs": [
    {
     "name": "stdout",
     "output_type": "stream",
     "text": [
      "0\n",
      "1000\n",
      "2000\n",
      "3000\n",
      "4000\n",
      "FINISHED!\n",
      "AI1 3828\n",
      "AI2 659\n"
     ]
    }
   ],
   "source": [
    "# Multiple games (train the AI)\n",
    "\n",
    "history = {\n",
    "    playerX: [0],\n",
    "    playerY: [0],\n",
    "    None: [0]\n",
    "}\n",
    "\n",
    "playerX.learning_rate = 0.1\n",
    "playerX.explore = 0.1\n",
    "playerY.learning_rate = 0.01\n",
    "playerY.explore = 0.95\n",
    "\n",
    "board = TicTacToe(playerX, playerY)\n",
    "board.print = False\n",
    "\n",
    "for i in range(5000):\n",
    "    if i % 1000 == 0:\n",
    "        print(i)\n",
    "    \n",
    "    while not board.finished:\n",
    "        board.next_turn()\n",
    "        \n",
    "    for p in history:\n",
    "        history[p].append(history[p][-1])\n",
    "    \n",
    "    history[board.winner][-1] += 1\n",
    "        \n",
    "    board.reset()\n",
    "    board.turn_p1 = i % 2  # take turns in starting\n",
    "    \n",
    "print(\"FINISHED!\")\n",
    "print(playerX.name, history[playerX][-1])\n",
    "print(playerY.name, history[playerY][-1])"
   ]
  },
  {
   "cell_type": "code",
   "execution_count": 4,
   "metadata": {},
   "outputs": [
    {
     "data": {
      "image/png": "[encoded data removed]",
      "text/plain": [
       "<matplotlib.figure.Figure at 0x7f3edc51eba8>"
      ]
     },
     "metadata": {},
     "output_type": "display_data"
    }
   ],
   "source": [
    "# Evaluate performance\n",
    "\n",
    "import matplotlib.pyplot as plt\n",
    "\n",
    "plt.plot(history[playerX], label=playerX.name)\n",
    "plt.plot(history[playerY], label=playerY.name)\n",
    "plt.plot(history[None], label='Draw')\n",
    "plt.legend()\n",
    "plt.show()"
   ]
  },
  {
   "cell_type": "markdown",
   "metadata": {},
   "source": [
    "# AI vs Human"
   ]
  },
  {
   "cell_type": "code",
   "execution_count": 5,
   "metadata": {
    "collapsed": true
   },
   "outputs": [],
   "source": [
    "# Run this cell to create a board\n",
    "\n",
    "playerX.explore = 0\n",
    "board = TicTacToe(playerX, playerZ)\n",
    "board.turn_p1 = True  # player 1 begins"
   ]
  },
  {
   "cell_type": "code",
   "execution_count": 14,
   "metadata": {},
   "outputs": [
    {
     "data": {
      "text/html": [
       "\n",
       "            <table>\n",
       "                <tr>\n",
       "                    <td>O</td>\n",
       "                    <td>X</td>\n",
       "                    <td>O</td>\n",
       "                </tr>\n",
       "                    <td>X</td>\n",
       "                    <td>O</td>\n",
       "                    <td>X</td>\n",
       "                <tr>\n",
       "                </tr>\n",
       "                <tr>\n",
       "                    <td>-</td>\n",
       "                    <td>O</td>\n",
       "                    <td>X</td>\n",
       "                </tr>\n",
       "            </table>\n",
       "        "
      ],
      "text/plain": [
       "<tictactoe.game.TicTacToe at 0x7f3edc51e518>"
      ]
     },
     "metadata": {},
     "output_type": "display_data"
    },
    {
     "name": "stdout",
     "output_type": "stream",
     "text": [
      "AI1 chooses move 7\n",
      "It's a draw!\n"
     ]
    },
    {
     "data": {
      "text/html": [
       "\n",
       "            <table>\n",
       "                <tr>\n",
       "                    <td>O</td>\n",
       "                    <td>X</td>\n",
       "                    <td>O</td>\n",
       "                </tr>\n",
       "                    <td>X</td>\n",
       "                    <td>O</td>\n",
       "                    <td>X</td>\n",
       "                <tr>\n",
       "                </tr>\n",
       "                <tr>\n",
       "                    <td>X</td>\n",
       "                    <td>O</td>\n",
       "                    <td>X</td>\n",
       "                </tr>\n",
       "            </table>\n",
       "        "
      ],
      "text/plain": [
       "<tictactoe.game.TicTacToe at 0x7f3edc51e518>"
      ]
     },
     "metadata": {},
     "output_type": "display_data"
    }
   ],
   "source": [
    "# Run this cell multiple times to play the game\n",
    "\n",
    "display(board)\n",
    "time.sleep(0.1)\n",
    "board.next_turn()\n",
    "display(board)"
   ]
  }
 ],
 "metadata": {
  "kernelspec": {
   "display_name": "Python 3",
   "language": "python",
   "name": "python3"
  },
  "language_info": {
   "codemirror_mode": {
    "name": "ipython",
    "version": 3
   },
   "file_extension": ".py",
   "mimetype": "text/x-python",
   "name": "python",
   "nbconvert_exporter": "python",
   "pygments_lexer": "ipython3",
   "version": "3.5.2"
  }
 },
 "nbformat": 4,
 "nbformat_minor": 2
}
