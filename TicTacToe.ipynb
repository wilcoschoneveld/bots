{
 "cells": [
  {
   "cell_type": "code",
   "execution_count": 1,
   "metadata": {},
   "outputs": [],
   "source": [
    "import time\n",
    "from tictactoe.game import TicTacToe\n",
    "from tictactoe.human import Human\n",
    "from tictactoe.agent import Agent\n",
    "\n",
    "player1 = Agent('AI 1')\n",
    "player2 = Human('Player 2')"
   ]
  },
  {
   "cell_type": "code",
   "execution_count": 2,
   "metadata": {
    "collapsed": true
   },
   "outputs": [],
   "source": [
    "board = TicTacToe(player1, player2)"
   ]
  },
  {
   "cell_type": "code",
   "execution_count": 5,
   "metadata": {},
   "outputs": [
    {
     "data": {
      "text/html": [
       "\n",
       "            <table>\n",
       "                <tr>\n",
       "                    <td>O</td>\n",
       "                    <td>X</td>\n",
       "                    <td>-</td>\n",
       "                </tr>\n",
       "                    <td>-</td>\n",
       "                    <td>-</td>\n",
       "                    <td>-</td>\n",
       "                <tr>\n",
       "                </tr>\n",
       "                <tr>\n",
       "                    <td>-</td>\n",
       "                    <td>-</td>\n",
       "                    <td>-</td>\n",
       "                </tr>\n",
       "            </table>\n",
       "        "
      ],
      "text/plain": [
       "<tictactoe.game.TicTacToe at 0x7f5ea959d0f0>"
      ]
     },
     "metadata": {},
     "output_type": "display_data"
    },
    {
     "name": "stdout",
     "output_type": "stream",
     "text": [
      "AI 1 chooses move 9\n"
     ]
    },
    {
     "data": {
      "text/html": [
       "\n",
       "            <table>\n",
       "                <tr>\n",
       "                    <td>O</td>\n",
       "                    <td>X</td>\n",
       "                    <td>-</td>\n",
       "                </tr>\n",
       "                    <td>-</td>\n",
       "                    <td>-</td>\n",
       "                    <td>-</td>\n",
       "                <tr>\n",
       "                </tr>\n",
       "                <tr>\n",
       "                    <td>-</td>\n",
       "                    <td>-</td>\n",
       "                    <td>X</td>\n",
       "                </tr>\n",
       "            </table>\n",
       "        "
      ],
      "text/plain": [
       "<tictactoe.game.TicTacToe at 0x7f5ea959d0f0>"
      ]
     },
     "metadata": {},
     "output_type": "display_data"
    }
   ],
   "source": [
    "display(board)\n",
    "time.sleep(0.1)\n",
    "board.next_turn()\n",
    "display(board)"
   ]
  },
  {
   "cell_type": "code",
   "execution_count": 13,
   "metadata": {},
   "outputs": [
    {
     "data": {
      "text/plain": [
       "True"
      ]
     },
     "execution_count": 13,
     "metadata": {},
     "output_type": "execute_result"
    }
   ],
   "source": [
    "board.state[0:3] == ['X', 'O', 'X']"
   ]
  },
  {
   "cell_type": "code",
   "execution_count": null,
   "metadata": {
    "collapsed": true
   },
   "outputs": [],
   "source": []
  },
  {
   "cell_type": "code",
   "execution_count": 9,
   "metadata": {},
   "outputs": [
    {
     "name": "stdout",
     "output_type": "stream",
     "text": [
      "None\n"
     ]
    }
   ],
   "source": [
    "print(board.check_state())"
   ]
  },
  {
   "cell_type": "code",
   "execution_count": 11,
   "metadata": {},
   "outputs": [],
   "source": [
    "def has(x):\n",
    "    return board.state[x - 1] == 'X'"
   ]
  },
  {
   "cell_type": "code",
   "execution_count": 13,
   "metadata": {},
   "outputs": [
    {
     "data": {
      "text/plain": [
       "False"
      ]
     },
     "execution_count": 13,
     "metadata": {},
     "output_type": "execute_result"
    }
   ],
   "source": [
    "has(1) and has(2) and has(3)"
   ]
  },
  {
   "cell_type": "code",
   "execution_count": null,
   "metadata": {
    "collapsed": true
   },
   "outputs": [],
   "source": [
    "# TODO: what if bot is player 2? (desired states are inverted)"
   ]
  }
 ],
 "metadata": {
  "kernelspec": {
   "display_name": "Python 3",
   "language": "python",
   "name": "python3"
  },
  "language_info": {
   "codemirror_mode": {
    "name": "ipython",
    "version": 3
   },
   "file_extension": ".py",
   "mimetype": "text/x-python",
   "name": "python",
   "nbconvert_exporter": "python",
   "pygments_lexer": "ipython3",
   "version": "3.5.2"
  }
 },
 "nbformat": 4,
 "nbformat_minor": 2
}
