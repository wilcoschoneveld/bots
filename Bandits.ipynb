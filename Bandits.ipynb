{
 "cells": [
  {
   "cell_type": "code",
   "execution_count": 1,
   "metadata": {
    "collapsed": true
   },
   "outputs": [],
   "source": [
    "from bandit.machine import Machine\n",
    "\n",
    "slots = [Machine.random() for _ in range(10)]"
   ]
  },
  {
   "cell_type": "code",
   "execution_count": 2,
   "metadata": {},
   "outputs": [
    {
     "name": "stdout",
     "output_type": "stream",
     "text": [
      "[432, 972, 718, 382, 788, 640, 190, 190, 435, 969] 972000\n"
     ]
    }
   ],
   "source": [
    "expected_values = [s.mu for s in slots]\n",
    "print(expected_values, max(expected_values) * 1000)"
   ]
  },
  {
   "cell_type": "code",
   "execution_count": 3,
   "metadata": {
    "collapsed": true
   },
   "outputs": [],
   "source": [
    "from bandit.agent import Agent\n",
    "\n",
    "agent = Agent(slots, 0.95)"
   ]
  },
  {
   "cell_type": "code",
   "execution_count": 4,
   "metadata": {},
   "outputs": [
    {
     "name": "stdout",
     "output_type": "stream",
     "text": [
      "911079.2565323433\n"
     ]
    }
   ],
   "source": [
    "total = 0 \n",
    "for i in range(1000):\n",
    "    total += agent.draw()\n",
    "    \n",
    "print(total)"
   ]
  },
  {
   "cell_type": "code",
   "execution_count": 28,
   "metadata": {
    "collapsed": true
   },
   "outputs": [],
   "source": [
    "epsilons = [0.7, 0.8, 0.9, 0.95, 0.99]\n",
    "totals = []\n",
    "\n",
    "for e in epsilons:\n",
    "    agent = Agent(slots, e)\n",
    "    total = 0\n",
    "    for i in range(10000):\n",
    "        total += agent.draw()\n",
    "        \n",
    "    totals.append(total)"
   ]
  },
  {
   "cell_type": "code",
   "execution_count": 29,
   "metadata": {},
   "outputs": [
    {
     "data": {
      "image/png": "[encoded data removed]",
      "text/plain": [
       "<matplotlib.figure.Figure at 0x7f2a749dd940>"
      ]
     },
     "metadata": {},
     "output_type": "display_data"
    }
   ],
   "source": [
    "import matplotlib.pyplot as plt\n",
    "\n",
    "plt.plot(epsilons, totals)\n",
    "plt.show()"
   ]
  },
  {
   "cell_type": "code",
   "execution_count": 19,
   "metadata": {},
   "outputs": [
    {
     "name": "stdout",
     "output_type": "stream",
     "text": [
      "[437.24669905712426, 958.6886446185534, 730.6861356534732, 373.5959999790636, 781.2890706850048, 642.1942316212155, 194.66247932962946, 198.04408599837623, 437.69523484021136, 969.7847514143493]\n"
     ]
    }
   ],
   "source": [
    "print([agent.get_value(s) for s in slots])"
   ]
  },
  {
   "cell_type": "code",
   "execution_count": null,
   "metadata": {
    "collapsed": true
   },
   "outputs": [],
   "source": []
  }
 ],
 "metadata": {
  "kernelspec": {
   "display_name": "Python 3",
   "language": "python",
   "name": "python3"
  },
  "language_info": {
   "codemirror_mode": {
    "name": "ipython",
    "version": 3
   },
   "file_extension": ".py",
   "mimetype": "text/x-python",
   "name": "python",
   "nbconvert_exporter": "python",
   "pygments_lexer": "ipython3",
   "version": "3.5.2"
  }
 },
 "nbformat": 4,
 "nbformat_minor": 2
}
